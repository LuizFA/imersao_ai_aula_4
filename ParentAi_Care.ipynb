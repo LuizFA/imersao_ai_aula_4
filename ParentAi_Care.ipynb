{
  "nbformat": 4,
  "nbformat_minor": 0,
  "metadata": {
    "colab": {
      "provenance": [],
      "toc_visible": true,
      "authorship_tag": "ABX9TyMzDlLO7a5xgyw+3FEZJhpQ",
      "include_colab_link": true
    },
    "kernelspec": {
      "name": "python3",
      "display_name": "Python 3"
    },
    "language_info": {
      "name": "python"
    }
  },
  "cells": [
    {
      "cell_type": "markdown",
      "metadata": {
        "id": "view-in-github",
        "colab_type": "text"
      },
      "source": [
        "<a href=\"https://colab.research.google.com/github/LuizFA/imersao_ai_aula_4/blob/main/ParentAi_Care.ipynb\" target=\"_parent\"><img src=\"https://colab.research.google.com/assets/colab-badge.svg\" alt=\"Open In Colab\"/></a>"
      ]
    },
    {
      "cell_type": "markdown",
      "source": [
        "# ParentAI Care - Seu assistente de confiança para uma jornada de parentalidade serena.\n"
      ],
      "metadata": {
        "id": "XwXZW5C4kGMy"
      }
    },
    {
      "cell_type": "code",
      "execution_count": null,
      "metadata": {
        "id": "cJh-mk3veTWX"
      },
      "outputs": [],
      "source": [
        "#Instalando o SDK do Google\n",
        "!pip install -q -U google-generativeai\n"
      ]
    },
    {
      "cell_type": "code",
      "source": [
        "#Importações e configurações iniciais\n",
        "import google.generativeai as genai\n",
        "import textwrap\n",
        "\n",
        "from google.colab import userdata\n",
        "from IPython.display import display\n",
        "from IPython.display import Markdown\n",
        "\n",
        "#Recuperar API KEY a partir do Google Colab Secrets\n",
        "API_KEY= userdata.get('GOOGLE_API_KEY')\n",
        "genai.configure(api_key=API_KEY)\n",
        "\n",
        "#Definir candidate_cout igual a 4 para ter uma maior variacao nas respostas e\n",
        "#Definir temperature igual a 0.6 para que a amostragem nao seja tao aleatoria\n",
        "#Esses parametros foram escolhidos pensando no modelo de negocio do assistente pessoal de novos pais, que precisam ter uma informacao mais concisa sem aparentar se apenas um robo de telemarketing\n",
        "generation_config = {\n",
        "  'candidate_count': 1,\n",
        "  'temperature': 0.6,\n",
        "}\n",
        "\n",
        "#As configuracoes de seguranca foram definidas com niveis elevados pois o publico alvo do aplicativo sao novos parentes buscando seguranca e respostas para o desenvolvimento de seus filhos\n",
        "safety_settings={\n",
        "    'HATE': 'BLOCK_LOW_AND_ABOVE',\n",
        "    'HARASSMENT': 'BLOCK_LOW_AND_ABOVE',\n",
        "    'SEXUAL' : 'BLOCK_LOW_AND_ABOVE',\n",
        "    'DANGEROUS' : 'BLOCK_LOW_AND_ABOVE'\n",
        "  }\n",
        "\n",
        "#Inicializacao do modelo\n",
        "model = genai.GenerativeModel(model_name='gemini-1.5-pro-latest', generation_config=generation_config, safety_settings=safety_settings,)\n"
      ],
      "metadata": {
        "id": "w1B98d8BkfLQ"
      },
      "execution_count": null,
      "outputs": []
    },
    {
      "cell_type": "code",
      "source": [
        "#Inicializando o chat\n",
        "chat = model.start_chat(history=[])\n",
        "\n",
        "#Pergunta inicial\n",
        "prompt = input('Bom dia como posso ajudar ? ')\n",
        "\n",
        "#Enquanto nao obtiver\n",
        "while prompt.lower() != \"encerrar\":\n",
        "  response = chat.send_message(prompt)\n",
        "  print(\"Resposta:\", response.text, '\\n\\n')\n",
        "  prompt = input('Deseja saber mais alguma coisa ? ')\n"
      ],
      "metadata": {
        "colab": {
          "base_uri": "https://localhost:8080/"
        },
        "id": "y-zOB6e_AVlz",
        "outputId": "44194b6d-0e69-4e03-c5cb-ab726efcd230"
      },
      "execution_count": null,
      "outputs": [
        {
          "name": "stdout",
          "output_type": "stream",
          "text": [
            "Bom dia como posso ajudar ? encerrar\n"
          ]
        }
      ]
    },
    {
      "cell_type": "code",
      "source": [
        "#Definicoes de estilo do texto\n",
        "def to_markdown(text):\n",
        "  text = text.replace('•', '  *')\n",
        "  return Markdown(textwrap.indent(text, '> ', predicate=lambda _: True))\n",
        "\n",
        "#Imprimindo o histórico\n",
        "for message in chat.history:\n",
        "  display(to_markdown(f'**{message.role}**: {message.parts[0].text}'))\n",
        "  print('-------------------------------------------')\n"
      ],
      "metadata": {
        "id": "kUlhzCu5DT3_"
      },
      "execution_count": null,
      "outputs": []
    }
  ]
}